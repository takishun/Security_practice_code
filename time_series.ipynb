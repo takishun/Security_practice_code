{
 "cells": [
  {
   "cell_type": "code",
   "execution_count": null,
   "id": "985f1432",
   "metadata": {},
   "outputs": [],
   "source": [
    "# "
   ]
  },
  {
   "cell_type": "code",
   "execution_count": 23,
   "id": "1d6b048c",
   "metadata": {},
   "outputs": [],
   "source": [
    "import pandas as pd\n",
    "import bs4\n",
    "base = 'https://www.tepco.co.jp/forecast/html/images/juyo-'\n",
    "syear = 2019\n",
    "eyear = 2021\n",
    "ftype = '.csv'"
   ]
  },
  {
   "cell_type": "code",
   "execution_count": 24,
   "id": "24e23cbb",
   "metadata": {},
   "outputs": [],
   "source": [
    "ts_data = pd.DataFrame()"
   ]
  },
  {
   "cell_type": "code",
   "execution_count": null,
   "id": "7b831157",
   "metadata": {},
   "outputs": [],
   "source": []
  },
  {
   "cell_type": "code",
   "execution_count": 25,
   "id": "afeb0a59",
   "metadata": {},
   "outputs": [],
   "source": [
    "for year in range(syear,eyear+1):\n",
    "    data = pd.read_csv('https://www.tepco.co.jp/forecast/html/images/juyo-'+ str(year) + ftype,encoding='cp932')\n",
    "    "
   ]
  },
  {
   "cell_type": "code",
   "execution_count": 26,
   "id": "c7ee0689",
   "metadata": {},
   "outputs": [
    {
     "data": {
      "text/html": [
       "<div>\n",
       "<style scoped>\n",
       "    .dataframe tbody tr th:only-of-type {\n",
       "        vertical-align: middle;\n",
       "    }\n",
       "\n",
       "    .dataframe tbody tr th {\n",
       "        vertical-align: top;\n",
       "    }\n",
       "\n",
       "    .dataframe thead th {\n",
       "        text-align: right;\n",
       "    }\n",
       "</style>\n",
       "<table border=\"1\" class=\"dataframe\">\n",
       "  <thead>\n",
       "    <tr style=\"text-align: right;\">\n",
       "      <th></th>\n",
       "      <th></th>\n",
       "      <th>2021/1/1 18:10 UPDATE</th>\n",
       "      <th>2021/7/24 18:10 UPDATE</th>\n",
       "    </tr>\n",
       "  </thead>\n",
       "  <tbody>\n",
       "    <tr>\n",
       "      <th>DATE</th>\n",
       "      <th>TIME</th>\n",
       "      <td>実績(万kW)</td>\n",
       "      <td>NaN</td>\n",
       "    </tr>\n",
       "    <tr>\n",
       "      <th rowspan=\"4\" valign=\"top\">2019/1/1</th>\n",
       "      <th>0:00</th>\n",
       "      <td>3017</td>\n",
       "      <td>NaN</td>\n",
       "    </tr>\n",
       "    <tr>\n",
       "      <th>1:00</th>\n",
       "      <td>2849</td>\n",
       "      <td>NaN</td>\n",
       "    </tr>\n",
       "    <tr>\n",
       "      <th>2:00</th>\n",
       "      <td>2730</td>\n",
       "      <td>NaN</td>\n",
       "    </tr>\n",
       "    <tr>\n",
       "      <th>3:00</th>\n",
       "      <td>2636</td>\n",
       "      <td>NaN</td>\n",
       "    </tr>\n",
       "    <tr>\n",
       "      <th>...</th>\n",
       "      <th>...</th>\n",
       "      <td>...</td>\n",
       "      <td>...</td>\n",
       "    </tr>\n",
       "    <tr>\n",
       "      <th rowspan=\"5\" valign=\"top\">2021/7/23</th>\n",
       "      <th>19:00</th>\n",
       "      <td>NaN</td>\n",
       "      <td>3990</td>\n",
       "    </tr>\n",
       "    <tr>\n",
       "      <th>20:00</th>\n",
       "      <td>NaN</td>\n",
       "      <td>3730</td>\n",
       "    </tr>\n",
       "    <tr>\n",
       "      <th>21:00</th>\n",
       "      <td>NaN</td>\n",
       "      <td>3518</td>\n",
       "    </tr>\n",
       "    <tr>\n",
       "      <th>22:00</th>\n",
       "      <td>NaN</td>\n",
       "      <td>3331</td>\n",
       "    </tr>\n",
       "    <tr>\n",
       "      <th>23:00</th>\n",
       "      <td>NaN</td>\n",
       "      <td>3160</td>\n",
       "    </tr>\n",
       "  </tbody>\n",
       "</table>\n",
       "<p>22443 rows × 2 columns</p>\n",
       "</div>"
      ],
      "text/plain": [
       "                2021/1/1 18:10 UPDATE 2021/7/24 18:10 UPDATE\n",
       "DATE      TIME                実績(万kW)                    NaN\n",
       "2019/1/1  0:00                   3017                    NaN\n",
       "          1:00                   2849                    NaN\n",
       "          2:00                   2730                    NaN\n",
       "          3:00                   2636                    NaN\n",
       "...                               ...                    ...\n",
       "2021/7/23 19:00                   NaN                   3990\n",
       "          20:00                   NaN                   3730\n",
       "          21:00                   NaN                   3518\n",
       "          22:00                   NaN                   3331\n",
       "          23:00                   NaN                   3160\n",
       "\n",
       "[22443 rows x 2 columns]"
      ]
     },
     "execution_count": 26,
     "metadata": {},
     "output_type": "execute_result"
    }
   ],
   "source": [
    "ts_data"
   ]
  },
  {
   "cell_type": "code",
   "execution_count": null,
   "id": "162cb81d",
   "metadata": {},
   "outputs": [],
   "source": []
  }
 ],
 "metadata": {
  "kernelspec": {
   "display_name": "Python 3",
   "language": "python",
   "name": "python3"
  },
  "language_info": {
   "codemirror_mode": {
    "name": "ipython",
    "version": 3
   },
   "file_extension": ".py",
   "mimetype": "text/x-python",
   "name": "python",
   "nbconvert_exporter": "python",
   "pygments_lexer": "ipython3",
   "version": "3.9.4"
  }
 },
 "nbformat": 4,
 "nbformat_minor": 5
}
