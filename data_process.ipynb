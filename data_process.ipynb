{
 "cells": [
  {
   "cell_type": "code",
   "execution_count": 2,
   "id": "3c5c4f5f-a819-496b-b9db-e66bf99fa23e",
   "metadata": {},
   "outputs": [],
   "source": [
    "import pandas as pd\n",
    "import matplotlib.pyplot as plt\n",
    "import seaborn as sns\n",
    "import japanize_matplotlib\n",
    "\n",
    "%matplotlib inline"
   ]
  },
  {
   "cell_type": "code",
   "execution_count": 3,
   "id": "bb733839-35fd-46d8-8a06-4e40ad69f141",
   "metadata": {},
   "outputs": [],
   "source": [
    "df = pd.read_csv('log_df.csv')"
   ]
  },
  {
   "cell_type": "code",
   "execution_count": 10,
   "id": "24f384a0-a7ca-4a30-86aa-e1786c522d02",
   "metadata": {},
   "outputs": [
    {
     "data": {
      "text/plain": [
       "414     Hong Kong\n",
       "415     Hong Kong\n",
       "416     Hong Kong\n",
       "417     Hong Kong\n",
       "418     Hong Kong\n",
       "          ...    \n",
       "1095    Hong Kong\n",
       "1096    Hong Kong\n",
       "1097    Hong Kong\n",
       "1098    Hong Kong\n",
       "1099    Hong Kong\n",
       "Name: country, Length: 685, dtype: object"
      ]
     },
     "execution_count": 10,
     "metadata": {},
     "output_type": "execute_result"
    }
   ],
   "source": [
    "df[df['from_ip_address']=='61.244.206.142'].country"
   ]
  },
  {
   "cell_type": "code",
   "execution_count": 8,
   "id": "594d4782-4738-42c2-a362-6703b9088cf6",
   "metadata": {},
   "outputs": [
    {
     "data": {
      "text/plain": [
       "'GET /?XDEBUG_SESSION_START=phpstorm HTTP/1.1\\nHost: 133.242.178.40:80\\nUser-Agent: Mozilla/5.0 (Windows NT 10.0; Win64; x64) AppleWebKit/537.36 (KHTML, like Gecko) Chrome/78.0.3904.108 Safari/537.36\\nAccept-Encoding: gzip\\nConnection: close\\n\\n'"
      ]
     },
     "execution_count": 8,
     "metadata": {},
     "output_type": "execute_result"
    }
   ],
   "source": [
    "df.basic64[0]"
   ]
  },
  {
   "cell_type": "code",
   "execution_count": null,
   "id": "a7ae19bc-4790-4e1b-89c1-470a7fa55d10",
   "metadata": {},
   "outputs": [],
   "source": []
  }
 ],
 "metadata": {
  "kernelspec": {
   "display_name": "Python 3 (ipykernel)",
   "language": "python",
   "name": "python3"
  },
  "language_info": {
   "codemirror_mode": {
    "name": "ipython",
    "version": 3
   },
   "file_extension": ".py",
   "mimetype": "text/x-python",
   "name": "python",
   "nbconvert_exporter": "python",
   "pygments_lexer": "ipython3",
   "version": "3.9.18"
  }
 },
 "nbformat": 4,
 "nbformat_minor": 5
}
